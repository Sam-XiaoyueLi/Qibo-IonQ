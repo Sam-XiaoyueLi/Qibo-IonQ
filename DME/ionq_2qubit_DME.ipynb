{
 "cells": [
  {
   "cell_type": "markdown",
   "metadata": {},
   "source": [
    "# 2-qubit DME\n",
    "\n",
    "Suppose our target and instruction states involve 2 qubits.\n",
    "Then $\\sigma=\\sigma_1\\otimes \\sigma_2$, $\\rho=\\rho_1\\otimes\\rho_2$.\n",
    "$$\n",
    "\\begin{align}\n",
    "\\text{SWAP}(\\sigma\\otimes\\rho)&&=\\text{SWAP}[(\\sigma_1\\otimes \\sigma_2)\\otimes(\\rho_1\\otimes\\rho_2)]\\\\\n",
    "&&=\\text{SWAP}[(\\rho_1\\otimes\\rho_2)\\otimes(\\sigma_1\\otimes \\sigma_2)]\n",
    "\\end{align}\n",
    "$$\n",
    "\n",
    "Which is equivalent to swapping $\\sigma_i$ with $\\rho_i$."
   ]
  },
  {
   "cell_type": "code",
   "execution_count": 8,
   "metadata": {},
   "outputs": [],
   "source": [
    "# imports\n",
    "from qiskit import QuantumCircuit\n",
    "import numpy as np\n",
    "from utils import *\n",
    "from qiskit_ionq import IonQProvider\n",
    "from copy import deepcopy\n",
    "from utils import *\n",
    "import qiskit.quantum_info as qi\n",
    "from scipy.linalg import expm\n"
   ]
  },
  {
   "cell_type": "markdown",
   "metadata": {},
   "source": [
    "## Example\n",
    "\n",
    "Here, we want to show that an entangled 2-qubit state $\\sigma=\\sigma_1\\otimes\\sigma_2$, in our example the Bell state $|\\varphi\\rangle=|00\\rangle + |11\\rangle$, can be fully swapped with two instruction qubits $\\rho_1$ and $\\rho_2$ without affecting the correlation.\n",
    "\n",
    "That is, $\\text{SWAP}_2[\\text{SWAP}_2(\\sigma\\otimes\\rho)] = \\rho\\otimes\\sigma$"
   ]
  },
  {
   "cell_type": "markdown",
   "metadata": {},
   "source": [
    "Suppose $\\sigma = q_0\\otimes q_1 = |00\\rang\\lang 00|$, $\\rho = q_2\\otimes q_3=|+\\rang\\lang+|\\otimes|+\\rang\\lang+|$.\n"
   ]
  },
  {
   "cell_type": "code",
   "execution_count": 9,
   "metadata": {},
   "outputs": [],
   "source": [
    "# initialize states matrices for calculation\n",
    "state_0 = np.outer(np.array([1,0]),np.array([1,0]))\n",
    "state_p = np.outer(np.array([1,1]),np.array([1,1]))/2\n",
    "sigma = np.kron(state_p, state_p)\n",
    "rho = np.kron(state_0, state_0)\n",
    "dm_tot = np.kron(sigma, rho)"
   ]
  },
  {
   "cell_type": "code",
   "execution_count": 10,
   "metadata": {},
   "outputs": [
    {
     "name": "stdout",
     "output_type": "stream",
     "text": [
      "     ┌───┐     \n",
      "q_0: ┤ H ├──■──\n",
      "     └───┘┌─┴─┐\n",
      "q_1: ─────┤ X ├\n",
      "          └───┘\n",
      "q_2: ──────────\n",
      "               \n",
      "q_3: ──────────\n",
      "               \n",
      "c: 4/══════════\n",
      "               \n"
     ]
    }
   ],
   "source": [
    "# build circuit to produce the desired state\n",
    "qc = QuantumCircuit(4,4)\n",
    "# bell-state sigma\n",
    "qc.h(0)\n",
    "qc.cx(0,1)\n",
    "print(qc.draw())"
   ]
  },
  {
   "cell_type": "code",
   "execution_count": 11,
   "metadata": {},
   "outputs": [
    {
     "name": "stdout",
     "output_type": "stream",
     "text": [
      "     ┌───┐                ░ ┌───┐┌───┐          ┌───┐┌─────┐┌───┐ ░           »\n",
      "q_0: ┤ H ├──■───■─────────░─┤ S ├┤ H ├─■────────┤ H ├┤ Sdg ├┤ H ├─░──■────────»\n",
      "     └───┘┌─┴─┐ │         ░ └───┘└───┘ │        └───┘└─────┘└───┘ ░  │        »\n",
      "q_1: ─────┤ X ├─┼─────────░────────────┼──────────────────────────░──┼────────»\n",
      "          └───┘ │ZZ(π/2)  ░ ┌───┐┌───┐ │ZZ(π/2) ┌───┐┌─────┐┌───┐ ░  │ZZ(π/2) »\n",
      "q_2: ───────────■─────────░─┤ S ├┤ H ├─■────────┤ H ├┤ Sdg ├┤ H ├─░──■────────»\n",
      "                          ░ └───┘└───┘          └───┘└─────┘└───┘ ░           »\n",
      "q_3: ─────────────────────░───────────────────────────────────────░───────────»\n",
      "                          ░                                       ░           »\n",
      "c: 4/═════════════════════════════════════════════════════════════════════════»\n",
      "                                                                              »\n",
      "«       ┌───┐         ░                                       ░           ┌─┐»\n",
      "«q_0: ──┤ H ├─────────░───────────────────────────────────────░───────────┤M├»\n",
      "«       └───┘         ░ ┌───┐┌───┐          ┌───┐┌─────┐┌───┐ ░           └╥┘»\n",
      "«q_1: ─■──────────────░─┤ S ├┤ H ├─■────────┤ H ├┤ Sdg ├┤ H ├─░──■─────────╫─»\n",
      "«      │        ┌───┐ ░ └───┘└───┘ │        └───┘└─────┘└───┘ ░  │         ║ »\n",
      "«q_2: ─┼────────┤ H ├─░────────────┼──────────────────────────░──┼─────────╫─»\n",
      "«      │ZZ(π/2) └───┘ ░ ┌───┐┌───┐ │ZZ(π/2) ┌───┐┌─────┐┌───┐ ░  │ZZ(π/2)  ║ »\n",
      "«q_3: ─■──────────────░─┤ S ├┤ H ├─■────────┤ H ├┤ Sdg ├┤ H ├─░──■─────────╫─»\n",
      "«                     ░ └───┘└───┘          └───┘└─────┘└───┘ ░            ║ »\n",
      "«c: 4/═════════════════════════════════════════════════════════════════════╩═»\n",
      "«                                                                          0 »\n",
      "«                     \n",
      "«q_0: ────────────────\n",
      "«     ┌───┐     ┌─┐   \n",
      "«q_1: ┤ H ├─────┤M├───\n",
      "«     └┬─┬┘     └╥┘   \n",
      "«q_2: ─┤M├───────╫────\n",
      "«      └╥┘ ┌───┐ ║ ┌─┐\n",
      "«q_3: ──╫──┤ H ├─╫─┤M├\n",
      "«       ║  └───┘ ║ └╥┘\n",
      "«c: 4/══╩════════╩══╩═\n",
      "«       2        1  3 \n"
     ]
    }
   ],
   "source": [
    "t = np.pi/2\n",
    "add_partial_swap(qc, 0, 2, t)\n",
    "add_partial_swap(qc, 1, 3, t)\n",
    "qc.measure([0,1],[0,1])\n",
    "qc.measure([2,3], [2,3])\n",
    "print(qc.draw())"
   ]
  },
  {
   "cell_type": "markdown",
   "metadata": {},
   "source": [
    "With $t=\\pi/2$, we obtain a full SWAP operation. Therefore, we will expect the outcome of measuring qubit 0,1 to be $|00\\rangle$"
   ]
  },
  {
   "cell_type": "code",
   "execution_count": 12,
   "metadata": {},
   "outputs": [],
   "source": [
    "# setup simulator\n",
    "my_api_key = \"pOiUVlzriOoF2wX1kp3lIqid1OMhwXZ5\"\n",
    "provider = IonQProvider(my_api_key)\n",
    "simulator_backend = provider.get_backend(\"ionq_simulator\")"
   ]
  },
  {
   "cell_type": "code",
   "execution_count": 13,
   "metadata": {},
   "outputs": [
    {
     "name": "stdout",
     "output_type": "stream",
     "text": [
      "{'0000': 0.507, '0011': 0.493}\n"
     ]
    }
   ],
   "source": [
    "# without noise\n",
    "shots = 1000\n",
    "job = simulator_backend.run(qc, shots=shots)\n",
    "result_wo = job.result()\n",
    "dict_wo = get_keys_freq(result_wo)\n",
    "print(dict_wo)"
   ]
  },
  {
   "cell_type": "markdown",
   "metadata": {},
   "source": [
    "This proves that our assumption is correct: the correlation between the instruction qubits remain after the swap."
   ]
  },
  {
   "cell_type": "markdown",
   "metadata": {},
   "source": []
  }
 ],
 "metadata": {
  "kernelspec": {
   "display_name": "ionq",
   "language": "python",
   "name": "python3"
  },
  "language_info": {
   "codemirror_mode": {
    "name": "ipython",
    "version": 3
   },
   "file_extension": ".py",
   "mimetype": "text/x-python",
   "name": "python",
   "nbconvert_exporter": "python",
   "pygments_lexer": "ipython3",
   "version": "3.12.4"
  }
 },
 "nbformat": 4,
 "nbformat_minor": 2
}
