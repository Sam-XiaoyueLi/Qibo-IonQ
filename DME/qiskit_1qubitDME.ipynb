{
 "cells": [
  {
   "cell_type": "markdown",
   "metadata": {},
   "source": [
    "# 2-step 1 qubit DME \n",
    "Reproducing DME proposal Figure 5: involving 10 qubits, 2 steps of DME and each step with trotter iterations $M=3$.\n",
    "\n",
    "We define in this example $\\sigma=|0\\rang\\lang 0|$ and $\\rho=|+\\rang\\lang+|$.\n",
    "\n",
    "The first step we use DME $(\\hat E_{t/M}^{\\rho}(\\sigma))^M$ to get $e^{-it\\rho}\\sigma e^{it\\rho}$.\n",
    "The second step is a recursion, letting $\\rho' = e^{-it\\rho}$, we get $e^{-it\\rho'}\\sigma e^{it\\rho'}$"
   ]
  },
  {
   "cell_type": "code",
   "execution_count": 1,
   "metadata": {},
   "outputs": [
    {
     "name": "stderr",
     "output_type": "stream",
     "text": [
      "/Users/pethidine/Documents/GitHub/Qibo-IonQ/DME/utils.py:170: SyntaxWarning: invalid escape sequence '\\s'\n",
      "  '''Tr(\\sqrt{\\sqrt dm_1)dm_2\\sqrt{\\sqrt dm_1)})^2'''\n"
     ]
    }
   ],
   "source": [
    "# imports\n",
    "from qiskit import QuantumCircuit\n",
    "from qiskit_aer import AerSimulator\n",
    "import numpy as np\n",
    "import scipy\n",
    "from utils import *\n",
    "from copy import deepcopy\n",
    "from qiskit_experiments.library import StateTomography\n",
    "from qiskit_aer.primitives import SamplerV2\n",
    "from qiskit.quantum_info import Statevector, DensityMatrix\n",
    "from qiskit_ibm_runtime.fake_provider import *"
   ]
  },
  {
   "cell_type": "code",
   "execution_count": 2,
   "metadata": {},
   "outputs": [
    {
     "name": "stdout",
     "output_type": "stream",
     "text": [
      "[[ 7.50000000e-01-2.77555756e-17j -2.17265947e-17+4.33012702e-01j]\n",
      " [ 2.31043892e-18-4.33012702e-01j  2.50000000e-01+1.38777878e-17j]]\n",
      "[[ 0.8125+2.72216170e-18j -0.375 +1.08253175e-01j]\n",
      " [-0.375 -1.08253175e-01j  0.1875+8.79816492e-18j]]\n"
     ]
    }
   ],
   "source": [
    "# create reference state\n",
    "import scipy.linalg\n",
    "t = np.pi/3\n",
    "state_0 = np.outer(np.array([1,0]),np.array([1,0]))\n",
    "state_p = np.outer(np.array([1,1]),np.array([1,1]))/2\n",
    "sigma = state_0\n",
    "rho = state_p\n",
    "sigma_step1 = scipy.linalg.expm(-1j*t*rho) @ sigma @ scipy.linalg.expm(1j*t*rho)\n",
    "sigma_step2 = scipy.linalg.expm(-1j*t*sigma_step1) @ sigma @ scipy.linalg.expm(1j*t*sigma_step1)\n",
    "print(sigma_step1)\n",
    "print(sigma_step2)"
   ]
  },
  {
   "cell_type": "markdown",
   "metadata": {},
   "source": [
    "We label the 13 qubits:\n",
    "\n",
    ".0  ./  ./   ./\n",
    "\n",
    ".1  .2   .3     .4\n",
    "\n",
    ".5  .6  .7  .8\n",
    "\n",
    ".9  .10  .11     .12\n",
    "\n",
    "Step 1, we have $\\sigma$ state at [1, 8, 10, 3]. Correspondingly, $\\rho$ state [0,2,5], [9,6,10], [4,7,12]. In this step, qubit 3 is not modified.\n",
    "\n",
    "Step 2, swap between [1,2], [6,10], [7,8].\n",
    "\n",
    "Step 3, DME on qubit 3 with the new memory qubits at [2, 7].\n",
    "\n",
    "Step 4, swap between [6,2].\n",
    "\n",
    "Step 5, DME on qubit 3 with memory qubit 2.\n"
   ]
  },
  {
   "cell_type": "code",
   "execution_count": 3,
   "metadata": {},
   "outputs": [],
   "source": [
    "def trotter_DME(qc, target_id, instruction_id, t):\n",
    "    '''Run DME on target qubit with $M\\times$ instruction_qubit, each rotates with time $t/M$\n",
    "    instruction_id: list\n",
    "    '''\n",
    "    M = len(instruction_id)\n",
    "    s = t/M\n",
    "    for rho_id in instruction_id:\n",
    "        add_partial_swap(qc, target_id, rho_id, s)"
   ]
  },
  {
   "cell_type": "code",
   "execution_count": 4,
   "metadata": {},
   "outputs": [],
   "source": [
    "# create circuit\n",
    "qc = QuantumCircuit(13,2)\n",
    "t = np.pi/4\n",
    "# prepare initial state\n",
    "# plus state on qubits\n",
    "for i in range(13):\n",
    "    if i not in [1,8,10,3]:\n",
    "        qc.h(i)\n",
    "\n",
    "# Step1: 3 trotter steps\n",
    "step1_target = [1, 8, 10]\n",
    "step1_instruction = [[0,2,5],[9,6,10],[4,7,12]]\n",
    "for i, target_id in enumerate(step1_target):\n",
    "    instruction_id = step1_instruction[i]\n",
    "    trotter_DME(qc, target_id, instruction_id, t)"
   ]
  },
  {
   "cell_type": "code",
   "execution_count": 5,
   "metadata": {},
   "outputs": [],
   "source": [
    "# Test fidelity of step 1\n",
    "from qiskit_ibm_runtime.fake_provider import *\n",
    "fakebackend = FakeOsaka()\n",
    "tomo_backend = AerSimulator.from_backend(fakebackend)\n",
    "physical_qubits = [i for i in range(13)]\n",
    "\n",
    "dm_sim = qiskit_tomography(qc, tomo_backend, 1000, physical_qubits,[1,8,10])\n",
    "print(dm_sim)\n",
    "# state_vec = Statevector.from_instruction(qc)\n",
    "# dm_expect = DensityMatrix(state_vec).data\n",
    "# print(fidelity(dm_sim, dm_expect))"
   ]
  }
 ],
 "metadata": {
  "kernelspec": {
   "display_name": "ionq",
   "language": "python",
   "name": "python3"
  },
  "language_info": {
   "codemirror_mode": {
    "name": "ipython",
    "version": 3
   },
   "file_extension": ".py",
   "mimetype": "text/x-python",
   "name": "python",
   "nbconvert_exporter": "python",
   "pygments_lexer": "ipython3",
   "version": "3.12.4"
  }
 },
 "nbformat": 4,
 "nbformat_minor": 2
}
