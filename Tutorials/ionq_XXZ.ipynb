{
 "cells": [
  {
   "cell_type": "markdown",
   "metadata": {},
   "source": [
    "# XXZ model on Qiskit and IonQ simulator"
   ]
  },
  {
   "cell_type": "code",
   "execution_count": 4,
   "metadata": {},
   "outputs": [],
   "source": [
    "from qiskit import QuantumCircuit, transpile\n",
    "from qiskit_ionq import IonQProvider"
   ]
  },
  {
   "cell_type": "code",
   "execution_count": 5,
   "metadata": {},
   "outputs": [],
   "source": [
    "# Load your API key from an environment variable named MY_IONQ_API_KEY\n",
    "my_api_key = \"pOiUVlzriOoF2wX1kp3lIqid1OMhwXZ5\"\n",
    "provider = IonQProvider(my_api_key)"
   ]
  },
  {
   "cell_type": "code",
   "execution_count": 8,
   "metadata": {},
   "outputs": [],
   "source": [
    "from qiskit.quantum_info import Pauli, SparsePauliOp\n",
    "import numpy as np\n",
    "\n",
    "def xxz_hamiltonian(n, delta):\n",
    "    \"\"\"Returns the XXZ model Hamiltonian for n qubits and a given delta in Qiskit.\"\"\"\n",
    "    \n",
    "    # Initialize lists to store the Pauli strings and coefficients\n",
    "    pauli_strings = []\n",
    "    coefficients = []\n",
    "\n",
    "    for i in range(n):\n",
    "        # XX term (X_i * X_{i+1})\n",
    "        x_term = ['I'] * n\n",
    "        x_term[i] = 'X'\n",
    "        x_term[(i + 1)%n] = 'X'\n",
    "        pauli_strings.append(''.join(x_term))\n",
    "        coefficients.append(1.0)\n",
    "        \n",
    "        # YY term (Y_i * Y_{i+1})\n",
    "        y_term = ['I'] * n\n",
    "        y_term[i] = 'Y'\n",
    "        y_term[(i + 1)%n] = 'Y'\n",
    "        pauli_strings.append(''.join(y_term))\n",
    "        coefficients.append(1.0)\n",
    "        \n",
    "        # ZZ term (Z_i * Z_{i+1})\n",
    "        z_term = ['I'] * n\n",
    "        z_term[i] = 'Z'\n",
    "        z_term[(i + 1)%n] = 'Z'\n",
    "        pauli_strings.append(''.join(z_term))\n",
    "        coefficients.append(delta)\n",
    "\n",
    "    # Create the SparsePauliOp object\n",
    "    paulis = [Pauli(p) for p in pauli_strings]\n",
    "    hamiltonian = SparsePauliOp(paulis, np.array(coefficients))\n",
    "    \n",
    "    return hamiltonian"
   ]
  },
  {
   "cell_type": "code",
   "execution_count": 16,
   "metadata": {},
   "outputs": [],
   "source": [
    "# Step 2: Prepare the quantum circuit (example: simple circuit for a 2-qubit system)\n",
    "n_qubits = 3\n",
    "circuit = QuantumCircuit(n_qubits)\n",
    "circuit.h(0)\n",
    "circuit.cx(0, 1)\n",
    "circuit.measure_all()"
   ]
  },
  {
   "cell_type": "code",
   "execution_count": 17,
   "metadata": {},
   "outputs": [
    {
     "name": "stdout",
     "output_type": "stream",
     "text": [
      "SparsePauliOp(['XXI', 'YYI', 'ZZI', 'IXX', 'IYY', 'IZZ', 'XIX', 'YIY', 'ZIZ'],\n",
      "              coeffs=[1. +0.j, 1. +0.j, 0.5+0.j, 1. +0.j, 1. +0.j, 0.5+0.j, 1. +0.j, 1. +0.j,\n",
      " 0.5+0.j])\n"
     ]
    }
   ],
   "source": [
    "n_qubits = 3\n",
    "delta_value = 0.5\n",
    "hamiltonian = xxz_hamiltonian(n_qubits, delta_value)\n",
    "print(hamiltonian)"
   ]
  },
  {
   "cell_type": "code",
   "execution_count": 20,
   "metadata": {},
   "outputs": [
    {
     "name": "stdout",
     "output_type": "stream",
     "text": [
      "{'000': 4981, '011': 5019}\n"
     ]
    }
   ],
   "source": [
    "# Set simulator backend\n",
    "simulator_backend = provider.get_backend(\"ionq_simulator\")\n",
    "# Run the circuit on IonQ's platform:\n",
    "job = simulator_backend.run(circuit, shots=10000)\n",
    "\n",
    "# Print the counts\n",
    "print(job.get_counts())"
   ]
  },
  {
   "cell_type": "code",
   "execution_count": null,
   "metadata": {},
   "outputs": [],
   "source": []
  }
 ],
 "metadata": {
  "kernelspec": {
   "display_name": "ionq",
   "language": "python",
   "name": "python3"
  },
  "language_info": {
   "codemirror_mode": {
    "name": "ipython",
    "version": 3
   },
   "file_extension": ".py",
   "mimetype": "text/x-python",
   "name": "python",
   "nbconvert_exporter": "python",
   "pygments_lexer": "ipython3",
   "version": "3.12.4"
  }
 },
 "nbformat": 4,
 "nbformat_minor": 2
}
