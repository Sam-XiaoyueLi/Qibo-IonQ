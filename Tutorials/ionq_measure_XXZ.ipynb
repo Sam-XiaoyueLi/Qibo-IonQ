{
 "cells": [
  {
   "cell_type": "markdown",
   "metadata": {},
   "source": [
    "# Obtaining energy from IonQ jobs\n",
    "\n",
    "In this notebook, we show how to get $\\langle \\psi|H_{\\text{XXZ}}|\\rangle$ where $\\psi=\\hat U |0\\rang$ from simulation results of $\\hat U$."
   ]
  },
  {
   "cell_type": "code",
   "execution_count": 1,
   "metadata": {},
   "outputs": [
    {
     "data": {
      "text/html": [
       "<pre style=\"word-wrap: normal;white-space: pre;background: #fff0;line-height: 1.1;font-family: &quot;Courier New&quot;,Courier,monospace\">               \n",
       "q_0: ──────────\n",
       "     ┌───┐     \n",
       "q_1: ┤ H ├──■──\n",
       "     └───┘┌─┴─┐\n",
       "q_2: ─────┤ X ├\n",
       "          └───┘</pre>"
      ],
      "text/plain": [
       "               \n",
       "q_0: ──────────\n",
       "     ┌───┐     \n",
       "q_1: ┤ H ├──■──\n",
       "     └───┘┌─┴─┐\n",
       "q_2: ─────┤ X ├\n",
       "          └───┘"
      ]
     },
     "execution_count": 1,
     "metadata": {},
     "output_type": "execute_result"
    }
   ],
   "source": [
    "# toy circuit in qiskit H: creates a Bell state\n",
    "from qiskit import QuantumCircuit\n",
    "import numpy as np\n",
    "from utils import *\n",
    "nqubits = 3\n",
    "qc = QuantumCircuit(3)\n",
    "qc.h(1)\n",
    "qc.cx(1, 2)\n",
    "# qc.measure_all()\n",
    "qc.draw()"
   ]
  },
  {
   "cell_type": "code",
   "execution_count": 3,
   "metadata": {},
   "outputs": [],
   "source": [
    "# initialize ionq\n",
    "from qiskit import QuantumCircuit\n",
    "from qiskit_ionq import IonQProvider\n",
    "from copy import deepcopy\n",
    "\n",
    "my_api_key = \"pOiUVlzriOoF2wX1kp3lIqid1OMhwXZ5\"\n",
    "provider = IonQProvider(my_api_key)\n",
    "simulator_backend = provider.get_backend(\"ionq_simulator\")"
   ]
  },
  {
   "cell_type": "code",
   "execution_count": 4,
   "metadata": {},
   "outputs": [],
   "source": [
    "qc_XYZ = rotate_circuit_XYZ(qc)"
   ]
  },
  {
   "cell_type": "code",
   "execution_count": 11,
   "metadata": {},
   "outputs": [
    {
     "name": "stdout",
     "output_type": "stream",
     "text": [
      "        ┌───┐           ░ ┌─┐      \n",
      "   q_0: ┤ H ├───────────░─┤M├──────\n",
      "        ├───┤     ┌───┐ ░ └╥┘┌─┐   \n",
      "   q_1: ┤ H ├──■──┤ H ├─░──╫─┤M├───\n",
      "        └───┘┌─┴─┐├───┤ ░  ║ └╥┘┌─┐\n",
      "   q_2: ─────┤ X ├┤ H ├─░──╫──╫─┤M├\n",
      "             └───┘└───┘ ░  ║  ║ └╥┘\n",
      "meas: 3/═══════════════════╩══╩══╩═\n",
      "                           0  1  2 \n",
      "        ┌─────┐┌───┐             ░ ┌─┐      \n",
      "   q_0: ┤ Sdg ├┤ H ├─────────────░─┤M├──────\n",
      "        └┬───┬┘└───┘┌─────┐┌───┐ ░ └╥┘┌─┐   \n",
      "   q_1: ─┤ H ├───■──┤ Sdg ├┤ H ├─░──╫─┤M├───\n",
      "         └───┘ ┌─┴─┐├─────┤├───┤ ░  ║ └╥┘┌─┐\n",
      "   q_2: ───────┤ X ├┤ Sdg ├┤ H ├─░──╫──╫─┤M├\n",
      "               └───┘└─────┘└───┘ ░  ║  ║ └╥┘\n",
      "meas: 3/════════════════════════════╩══╩══╩═\n",
      "                                    0  1  2 \n",
      "                   ░ ┌─┐      \n",
      "   q_0: ───────────░─┤M├──────\n",
      "        ┌───┐      ░ └╥┘┌─┐   \n",
      "   q_1: ┤ H ├──■───░──╫─┤M├───\n",
      "        └───┘┌─┴─┐ ░  ║ └╥┘┌─┐\n",
      "   q_2: ─────┤ X ├─░──╫──╫─┤M├\n",
      "             └───┘ ░  ║  ║ └╥┘\n",
      "meas: 3/══════════════╩══╩══╩═\n",
      "                      0  1  2 \n"
     ]
    }
   ],
   "source": [
    "for qc_m in qc_XYZ:\n",
    "    print(qc_m.draw())"
   ]
  },
  {
   "cell_type": "code",
   "execution_count": 18,
   "metadata": {},
   "outputs": [],
   "source": [
    "# observable XXZ:\n",
    "xxz = xxz_hamiltonian(nqubits)\n",
    "zz = xxz_hamiltonian(nqubits,delta=1,select='ZZ')\n",
    "coefs = [1,1,0.5]"
   ]
  },
  {
   "cell_type": "code",
   "execution_count": 20,
   "metadata": {},
   "outputs": [
    {
     "name": "stdout",
     "output_type": "stream",
     "text": [
      "0.8720000000000001\n",
      "-1.0\n",
      "0.484\n"
     ]
    }
   ],
   "source": [
    "shots = 1000\n",
    "keys_ls = []\n",
    "frequencies_ls = []\n",
    "observable_labels = ['XX', 'YY', 'ZZ']\n",
    "xxz_expectation = 0\n",
    "for i,qc_m in enumerate(qc_XYZ):\n",
    "    job = simulator_backend.run(qc_m, shots=shots)\n",
    "    result = job.result()\n",
    "    # Get the counts from the result\n",
    "    counts = result.get_counts()\n",
    "    keys = [key.split()[0][::-1] for key in counts.keys()]\n",
    "    sample_counts = list(counts.values())\n",
    "    frequencies = np.array(sample_counts) / sum(sample_counts)\n",
    "    ob = zz\n",
    "    coef = coefs[i]\n",
    "    expectation = sample_to_expectation(ob.to_matrix(), keys, frequencies)*coef\n",
    "    xxz_expectation += expectation\n",
    "    print(observable_labels[i], expectation)\n",
    "    keys_ls.append(keys)\n",
    "    frequencies_ls.append(frequencies)\n",
    "    \n",
    "print('Expectation energy:', xxz_expectation)"
   ]
  },
  {
   "cell_type": "code",
   "execution_count": 4,
   "metadata": {},
   "outputs": [
    {
     "name": "stdout",
     "output_type": "stream",
     "text": [
      "{'000': 498, '110': 502}\n"
     ]
    }
   ],
   "source": [
    "# Run the circuit on the IonQ simulator\n",
    "qc_m = deepcopy(qc)\n",
    "qc_m.measure_all()\n",
    "shots = 1000\n",
    "job = simulator_backend.run(qc_m, shots=shots)\n",
    "result = job.result()\n",
    "\n",
    "# Get the counts from the result\n",
    "counts = result.get_counts()\n",
    "print(counts)"
   ]
  },
  {
   "cell_type": "code",
   "execution_count": 9,
   "metadata": {},
   "outputs": [
    {
     "name": "stdout",
     "output_type": "stream",
     "text": [
      "['000', '011']\n",
      "[498, 502]\n",
      "[0.498 0.502]\n"
     ]
    }
   ],
   "source": [
    "keys = [key.split()[0][::-1] for key in counts.keys()]\n",
    "sample_counts = list(counts.values())\n",
    "frequencies = np.array(sample_counts) / sum(sample_counts)\n",
    "print(keys)\n",
    "print(sample_counts)\n",
    "print(frequencies)"
   ]
  },
  {
   "cell_type": "markdown",
   "metadata": {},
   "source": [
    "## Qiskit calculation"
   ]
  },
  {
   "cell_type": "code",
   "execution_count": 29,
   "metadata": {},
   "outputs": [],
   "source": [
    "from qiskit_ibm_runtime import QiskitRuntimeService\n",
    " \n",
    "# If you did not previously save your credentials, use the following line instead:\n",
    "service = QiskitRuntimeService(channel=\"ibm_quantum\", token=\"d7b55bcdcf222ad6aa9d85d01405645658facca7ed1cd3b304eabe6ded9bc5d90a5e4b783431c844e7a606e5206d1adbd0246b29c4d71392ae14b8b4d94e9e18\")\n",
    "# service = QiskitRuntimeService()\n",
    " \n",
    "backend = service.least_busy(simulator=False, operational=True)"
   ]
  },
  {
   "cell_type": "code",
   "execution_count": 33,
   "metadata": {},
   "outputs": [
    {
     "name": "stdout",
     "output_type": "stream",
     "text": [
      "0.49999999999999994\n",
      "0.9999999999999998\n",
      "-0.9999999999999998\n",
      "0.49999999999999994\n"
     ]
    }
   ],
   "source": [
    "from qiskit.quantum_info import Statevector\n",
    "statevector = Statevector.from_instruction(qc)\n",
    "for ob in observables:\n",
    "    expectation = np.real(np.dot(statevector.data.conj().T, np.dot(ob.to_matrix(), statevector.data)))\n",
    "    print(expectation)"
   ]
  }
 ],
 "metadata": {
  "kernelspec": {
   "display_name": "ionq",
   "language": "python",
   "name": "python3"
  },
  "language_info": {
   "codemirror_mode": {
    "name": "ipython",
    "version": 3
   },
   "file_extension": ".py",
   "mimetype": "text/x-python",
   "name": "python",
   "nbconvert_exporter": "python",
   "pygments_lexer": "ipython3",
   "version": "3.12.4"
  }
 },
 "nbformat": 4,
 "nbformat_minor": 2
}
