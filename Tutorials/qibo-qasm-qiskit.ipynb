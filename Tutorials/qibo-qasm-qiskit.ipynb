{
 "cells": [
  {
   "cell_type": "markdown",
   "metadata": {},
   "source": [
    "# Qibo-Qasm-Qiskit\n",
    "\n",
    "The main functions:\n",
    "\n",
    "Qibo-Qasm: `models.Circuit.to_qasm(c)`\n",
    "\n",
    "Qasm-Qiskit: `qiskit.qasm2.loads(qasm_code)`\n",
    "\n",
    "Note that the Qibo circuit must contain measurement gates"
   ]
  },
  {
   "cell_type": "code",
   "execution_count": 4,
   "metadata": {},
   "outputs": [
    {
     "data": {
      "text/html": [
       "<pre style=\"word-wrap: normal;white-space: pre;background: #fff0;line-height: 1.1;font-family: &quot;Courier New&quot;,Courier,monospace\">             ┌───┐     ┌─┐   \n",
       "        q_0: ┤ H ├──■──┤M├───\n",
       "             └───┘┌─┴─┐└╥┘┌─┐\n",
       "        q_1: ─────┤ X ├─╫─┤M├\n",
       "                  └───┘ ║ └╥┘\n",
       "register0: 2/═══════════╩══╩═\n",
       "                        0  1 </pre>"
      ],
      "text/plain": [
       "             ┌───┐     ┌─┐   \n",
       "        q_0: ┤ H ├──■──┤M├───\n",
       "             └───┘┌─┴─┐└╥┘┌─┐\n",
       "        q_1: ─────┤ X ├─╫─┤M├\n",
       "                  └───┘ ║ └╥┘\n",
       "register0: 2/═══════════╩══╩═\n",
       "                        0  1 "
      ]
     },
     "execution_count": 4,
     "metadata": {},
     "output_type": "execute_result"
    }
   ],
   "source": [
    "from qibo import gates, models\n",
    "import qiskit.qasm2\n",
    "c = models.Circuit(2)\n",
    "c.add(gates.H(0))\n",
    "c.add(gates.CNOT(0, 1))\n",
    "c.add(gates.M(0,1))\n",
    "qasm_code = models.Circuit.to_qasm(c)\n",
    "# print(qasm_code)\n",
    "circuit = qiskit.qasm2.loads(qasm_code)\n",
    "circuit.draw()"
   ]
  },
  {
   "cell_type": "code",
   "execution_count": 5,
   "metadata": {},
   "outputs": [
    {
     "data": {
      "text/html": [
       "<pre style=\"word-wrap: normal;white-space: pre;background: #fff0;line-height: 1.1;font-family: &quot;Courier New&quot;,Courier,monospace\">     ┌───┐     ┌─┐   \n",
       "q_0: ┤ H ├──■──┤M├───\n",
       "     └───┘┌─┴─┐└╥┘┌─┐\n",
       "q_1: ─────┤ X ├─╫─┤M├\n",
       "          └───┘ ║ └╥┘\n",
       "c: 2/═══════════╩══╩═\n",
       "                0  1 </pre>"
      ],
      "text/plain": [
       "     ┌───┐     ┌─┐   \n",
       "q_0: ┤ H ├──■──┤M├───\n",
       "     └───┘┌─┴─┐└╥┘┌─┐\n",
       "q_1: ─────┤ X ├─╫─┤M├\n",
       "          └───┘ ║ └╥┘\n",
       "c: 2/═══════════╩══╩═\n",
       "                0  1 "
      ]
     },
     "execution_count": 5,
     "metadata": {},
     "output_type": "execute_result"
    }
   ],
   "source": [
    "# The above circuit translated from Qibo to Qiskit should be the same as:\n",
    "from qiskit import QuantumCircuit\n",
    "qc = QuantumCircuit(2, 2)\n",
    "qc.h(0)\n",
    "qc.cx(0, 1)\n",
    "qc.measure([0, 1], [0, 1])\n",
    "qc.draw()"
   ]
  },
  {
   "cell_type": "markdown",
   "metadata": {},
   "source": [
    "We then run this circuit on IonQ simulator (reference: `ionq_setup.ipynb`)"
   ]
  },
  {
   "cell_type": "code",
   "execution_count": 6,
   "metadata": {},
   "outputs": [],
   "source": [
    "from qiskit_ionq import IonQProvider\n",
    "\n",
    "# Load your API key from an environment variable named MY_IONQ_API_KEY\n",
    "my_api_key = \"pOiUVlzriOoF2wX1kp3lIqid1OMhwXZ5\"\n",
    "provider = IonQProvider(my_api_key)"
   ]
  },
  {
   "cell_type": "code",
   "execution_count": 7,
   "metadata": {},
   "outputs": [],
   "source": [
    "# Set simulator backend\n",
    "simulator_backend = provider.get_backend(\"ionq_simulator\")\n",
    "# Run the circuit on IonQ's platform:\n",
    "job = simulator_backend.run(circuit, shots=10000)"
   ]
  },
  {
   "cell_type": "code",
   "execution_count": 8,
   "metadata": {},
   "outputs": [
    {
     "name": "stdout",
     "output_type": "stream",
     "text": [
      "{'00': 4950, '11': 5050}\n"
     ]
    }
   ],
   "source": [
    "\n",
    "# Print the counts\n",
    "print(job.get_counts())"
   ]
  },
  {
   "cell_type": "markdown",
   "metadata": {},
   "source": [
    "# Run on ionq"
   ]
  },
  {
   "cell_type": "code",
   "execution_count": 9,
   "metadata": {},
   "outputs": [],
   "source": [
    "from qiskit import QuantumCircuit\n",
    "from qiskit_ionq import IonQProvider\n",
    "from copy import deepcopy\n",
    "\n",
    "my_api_key = \"pOiUVlzriOoF2wX1kp3lIqid1OMhwXZ5\"\n",
    "provider = IonQProvider(my_api_key)\n",
    "simulator_backend = provider.get_backend(\"ionq_simulator\")"
   ]
  },
  {
   "cell_type": "code",
   "execution_count": 10,
   "metadata": {},
   "outputs": [],
   "source": [
    "# Run the circuit on the IonQ simulator\n",
    "shots = 5024\n",
    "job = simulator_backend.run(qc, shots=shots)\n",
    "result = job.result()\n",
    "\n",
    "# Get the counts from the result\n",
    "counts = result.get_counts()"
   ]
  },
  {
   "cell_type": "code",
   "execution_count": 11,
   "metadata": {},
   "outputs": [
    {
     "name": "stdout",
     "output_type": "stream",
     "text": [
      "{'00': 2479, '11': 2545}\n"
     ]
    }
   ],
   "source": [
    "print(counts)"
   ]
  },
  {
   "cell_type": "code",
   "execution_count": null,
   "metadata": {},
   "outputs": [],
   "source": []
  }
 ],
 "metadata": {
  "kernelspec": {
   "display_name": "ionq",
   "language": "python",
   "name": "python3"
  },
  "language_info": {
   "codemirror_mode": {
    "name": "ipython",
    "version": 3
   },
   "file_extension": ".py",
   "mimetype": "text/x-python",
   "name": "python",
   "nbconvert_exporter": "python",
   "pygments_lexer": "ipython3",
   "version": "3.12.4"
  }
 },
 "nbformat": 4,
 "nbformat_minor": 2
}
